{
 "cells": [
  {
   "cell_type": "code",
   "execution_count": 39,
   "id": "eefcf660-659b-4cf7-b2db-3a21b3ac5914",
   "metadata": {},
   "outputs": [],
   "source": [
    "import streamlit as st\n",
    "import pandas as pd\n",
    "import sklearn\n",
    "import joblib"
   ]
  },
  {
   "cell_type": "code",
   "execution_count": 40,
   "id": "deb5b6dc-e6ea-44a0-a0f8-a1b262132833",
   "metadata": {},
   "outputs": [],
   "source": [
    "data = pd.read_csv(\"kc_house_data_regression.csv\")"
   ]
  },
  {
   "cell_type": "code",
   "execution_count": 41,
   "id": "1bfa3144-ac99-4bdf-ab81-212a67ddbc79",
   "metadata": {},
   "outputs": [],
   "source": [
    "columns = ['bedrooms','bathrooms','floors']\n",
    "target = 'price'"
   ]
  },
  {
   "cell_type": "code",
   "execution_count": 42,
   "id": "943b8e72-838f-4f38-891b-672ae474245b",
   "metadata": {},
   "outputs": [],
   "source": [
    "X = data [columns]\n",
    "y = data [target]"
   ]
  },
  {
   "cell_type": "code",
   "execution_count": 43,
   "id": "d05fcdba-7b02-4f55-9da2-95bd1764731a",
   "metadata": {},
   "outputs": [],
   "source": [
    "from sklearn.linear_model import LinearRegression\n",
    "from sklearn.model_selection import train_test_split"
   ]
  },
  {
   "cell_type": "code",
   "execution_count": 44,
   "id": "5a6fb22b-989c-44df-9ca3-0c7d28d75981",
   "metadata": {},
   "outputs": [],
   "source": [
    "X_train, X_test, y_train, y_test = train_test_split (X, y, random_state=42, test_size=0.2)"
   ]
  },
  {
   "cell_type": "code",
   "execution_count": 45,
   "id": "d5101b62-246e-4e4d-9691-c821747f7b09",
   "metadata": {},
   "outputs": [],
   "source": [
    "lr = LinearRegression()"
   ]
  },
  {
   "cell_type": "code",
   "execution_count": 46,
   "id": "513d469f-1f03-412f-9c0b-b62f775e36ca",
   "metadata": {},
   "outputs": [
    {
     "data": {
      "text/plain": [
       "LinearRegression()"
      ]
     },
     "execution_count": 46,
     "metadata": {},
     "output_type": "execute_result"
    }
   ],
   "source": [
    "lr.fit(X_train, y_train)"
   ]
  },
  {
   "cell_type": "code",
   "execution_count": 47,
   "id": "db67e09e-8148-45d0-a86f-7bceb988fe67",
   "metadata": {},
   "outputs": [
    {
     "data": {
      "text/plain": [
       "['finalized_model.sav']"
      ]
     },
     "execution_count": 47,
     "metadata": {},
     "output_type": "execute_result"
    }
   ],
   "source": [
    "filename = 'finalized_model.sav'\n",
    "joblib.dump(lr,filename)"
   ]
  },
  {
   "cell_type": "code",
   "execution_count": null,
   "id": "bfeda694-925b-4279-af69-0328bd0e32fa",
   "metadata": {},
   "outputs": [],
   "source": []
  }
 ],
 "metadata": {
  "kernelspec": {
   "display_name": "Python 3 (ipykernel)",
   "language": "python",
   "name": "python3"
  },
  "language_info": {
   "codemirror_mode": {
    "name": "ipython",
    "version": 3
   },
   "file_extension": ".py",
   "mimetype": "text/x-python",
   "name": "python",
   "nbconvert_exporter": "python",
   "pygments_lexer": "ipython3",
   "version": "3.9.7"
  }
 },
 "nbformat": 4,
 "nbformat_minor": 5
}
